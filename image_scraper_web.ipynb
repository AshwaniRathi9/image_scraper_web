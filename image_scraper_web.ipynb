{
 "cells": [
  {
   "cell_type": "code",
   "execution_count": 76,
   "id": "36d2de93-b66c-4b53-8e84-5c3b0be9273d",
   "metadata": {},
   "outputs": [],
   "source": [
    "import requests\n",
    "import logging\n",
    "import os\n",
    "from bs4 import BeautifulSoup\n",
    "from urllib.request import urlopen"
   ]
  },
  {
   "cell_type": "code",
   "execution_count": 77,
   "id": "94d42fc2-eed3-43cc-95ab-814f50a5f760",
   "metadata": {},
   "outputs": [],
   "source": [
    "save_dir=\"images/\"\n",
    "if not os.path.exists(save_dir):\n",
    "    os.makedirs(save_dir)"
   ]
  },
  {
   "cell_type": "code",
   "execution_count": 78,
   "id": "c31e24bd-3689-4cc5-b918-e09db4592293",
   "metadata": {},
   "outputs": [],
   "source": [
    "query = \"hawa+mahal\""
   ]
  },
  {
   "cell_type": "code",
   "execution_count": 105,
   "id": "1bf05400-0b9f-46af-b13c-a38823dd2548",
   "metadata": {},
   "outputs": [],
   "source": [
    "response=requests.get(f\"https://www.google.com/search?sca_esv=553768703&rlz=1C1ONGR_enIN1066&q={query}&tbm=isch&source=lnms&sa=X&ved=2ahUKEwj308aoh8OAAxXqTGwGHSEpAW0Q0pQJegQIDRAB&biw=1366&bih=619&dpr=1#imgrc=T-ltjeUbPrb4yM\")"
   ]
  },
  {
   "cell_type": "code",
   "execution_count": 106,
   "id": "1e17a93a-783e-429e-9d28-4430c15f5d64",
   "metadata": {},
   "outputs": [
    {
     "data": {
      "text/plain": [
       "<Response [200]>"
      ]
     },
     "execution_count": 106,
     "metadata": {},
     "output_type": "execute_result"
    }
   ],
   "source": [
    "response"
   ]
  },
  {
   "cell_type": "code",
   "execution_count": 107,
   "id": "91612168-7a05-4d59-ad2e-84986b2d5d73",
   "metadata": {},
   "outputs": [],
   "source": [
    "soup=BeautifulSoup(response.content, \"html.parser\")"
   ]
  },
  {
   "cell_type": "code",
   "execution_count": 108,
   "id": "a05f135b-cd76-4ff8-8460-5e81a2a15060",
   "metadata": {},
   "outputs": [
    {
     "data": {
      "text/plain": [
       "<!DOCTYPE html PUBLIC \"-//WAPFORUM//DTD XHTML Mobile 1.0//EN\" \"http://www.wapforum.org/DTD/xhtml-mobile10.dtd\">\n",
       "<html lang=\"en-IN\" xmlns=\"http://www.w3.org/1999/xhtml\"><head><meta content=\"application/xhtml+xml; charset=utf-8\" http-equiv=\"Content-Type\"/><meta content=\"no-cache\" name=\"Cache-Control\"/><title>hawa mahal - Google Search</title><style>a{text-decoration:none;color:inherit}a:hover{text-decoration:underline}a img{border:0}body{font-family:arial,sans-serif;padding:8px;margin:0 auto;max-width:700px;min-width:240px;}.FbhRzb{border-left:thin solid #dadce0;border-right:thin solid #dadce0;border-top:thin solid #dadce0;height:40px;overflow:hidden}.n692Zd{margin-bottom:10px}.cvifge{height:40px;border-spacing:0}.QvGUP{height:40px;padding:0 8px 0 8px;vertical-align:top}.O4cRJf{height:40px;width:100%;padding:0;padding-right:16px}.O1ePr{height:40px;padding:0;vertical-align:top}.kgJEQe{height:36px;width:98px;vertical-align:top;margin-top:4px}.lXLRf{vertical-align:top}.MhzMZd{border:0;vertical-align:middle;font-size:14px;height:40px;padding:0;width:100%;padding-left:16px}.xB0fq{height:40px;border:none;font-size:14px;background-color:#1a73e8;color:#fff;padding:0 16px;margin:0;vertical-align:top;cursor:pointer}.xB0fq:focus{border:1px solid #1a73e8}.M7pB2{border:thin solid #dadce0;margin:0 0 3px 0;font-size:13px;font-weight:500;height:40px}.euZec{width:100%;height:40px;text-align:center;border-spacing:0}table.euZec td{padding:0;width:25%}.QIqI7{display:inline-block;padding-top:4px;font-weight:bold;color:#4285f4}.EY24We{border-bottom:2px solid #4285f4}.CsQyDc{display:inline-block;color:#70757a}.TuS8Ad{font-size:14px}.HddGcc{padding:8px;color:#70757a}.dzp8ae{font-weight:bold;color:#3c4043}.rEM8G{color:#70757a}.bookcf{table-layout:fixed;width:100%;border-spacing:0}.InWNIe{text-align:center}.uZgmoc{border:thin solid #dadce0;color:#70757a;font-size:14px;text-align:center;table-layout:fixed;width:100%}.frGj1b{display:block;padding:12px 0 12px 0;width:100%}.BnJWBc{text-align:center;padding:6px 0 13px 0;height:35px}.e3goi{vertical-align:top;padding:0;height:180px}.GpQGbf{margin:auto;border-collapse:collapse;border-spacing:0;width:100%}</style></head><body><style>.X6ZCif{color:#202124;font-size:11px;line-height:16px;display:inline-block;padding-top:2px;overflow:hidden;padding-bottom:4px;width:100%}.TwVfHd{border-radius:16px;border:thin solid #dadce0;display:inline-block;padding:8px 8px;margin-right:8px;margin-bottom:4px}.yekiAe{background-color:#dadce0}.mnTahd{width:100%}.ezO2md{border:thin solid #dadce0;padding:12px 16px 12px 16px;margin-bottom:10px;font-family:arial,sans-serif}.lIMUZd{font-family:arial,sans-serif}.IkMU6e{border-spacing:0}.SjCsie{width:100%}.EnarA{text-align:center}.NZWO1b{width:162px;height:140px;line-height:140px;overflow:'hidden';text-align:center}.yWs4tf{text-align:center;margin:auto;vertical-align:middle;max-width:162px;max-height:140px}.jB2rPd{padding-top:2px;padding-bottom:8px;}.fYyStc{word-break:break-word}.ynsChf{display:block;white-space:nowrap;overflow:hidden;text-overflow:ellipsis}.Fj3V3b{color:#1967d2;font-size:14px;line-height:20px}.FrIlee{color:#202124;font-size:11px;line-height:16px}.F9iS2e{color:#70757a;font-size:11px;line-height:16px}.WMQ2Le{color:#70757a;font-size:12px;line-height:16px}.x3G5ab{color:#202124;font-size:12px;line-height:16px}.fuLhoc{color:#1967d2;font-size:16px;line-height:20px}.epoveb{font-size:24px;line-height:28px;font-weight:400;color:#202124}.dXDvrc{color:#0d652d;font-size:14px;line-height:20px;word-wrap:break-word}.dloBPe{font-weight:bold}.YVIcad{color:#70757a}.JkVVdd{color:#ea4335}.oXZRFd{color:#ea4335}.MQHtg{color:#fbbc04}.pyMRrb{color:#1e8e3e}.EtTZid{color:#1e8e3e}.M3vVJe{color:#1967d2}.qXLe6d{display:block}.NHQNef{font-style:italic}.Cb8Z7c{white-space:pre}a.ZWRArf{text-decoration:none}a .CVA68e:hover{text-decoration:underline}</style><div class=\"n692Zd\"><div class=\"BnJWBc\"><a class=\"lXLRf\" href=\"/?sa=X&amp;sca_esv=553768703&amp;rlz=1C1ONGR_enIN1066&amp;biw=1366&amp;bih=619&amp;output=images&amp;ie=UTF-8&amp;tbm=isch&amp;ved=0ahUKEwiq8bGelsOAAxXf7TgGHbSUD80QPAgC\"><img alt=\"Google\" class=\"kgJEQe\" src=\"/images/branding/searchlogo/1x/googlelogo_desk_heirloom_color_150x55dp.gif\"/></a></div><div class=\"FbhRzb\"><form action=\"/search\"><input name=\"sca_esv\" type=\"hidden\" value=\"553768703\"/><input name=\"rlz\" type=\"hidden\" value=\"1C1ONGR_enIN1066\"/><input name=\"biw\" type=\"hidden\" value=\"1366\"/><input name=\"bih\" type=\"hidden\" value=\"619\"/><input name=\"ie\" type=\"hidden\" value=\"ISO-8859-1\"/><input name=\"tbm\" type=\"hidden\" value=\"isch\"/><input name=\"oq\" type=\"hidden\"/><input name=\"aqs\" type=\"hidden\"/><table class=\"cvifge\"><tr><td class=\"O4cRJf\"><input class=\"MhzMZd\" name=\"q\" type=\"text\" value=\"hawa mahal\"/></td><td class=\"O1ePr\"><input class=\"xB0fq\" type=\"submit\" value=\"Search\"/></td></tr></table></form></div><div class=\"M7pB2\"><table class=\"euZec\"><tbody><tr><td><a class=\"CsQyDc\" href=\"/search?q=hawa+mahal&amp;sca_esv=553768703&amp;rlz=1C1ONGR_enIN1066&amp;biw=1366&amp;bih=619&amp;ie=UTF-8&amp;source=lnms&amp;sa=X&amp;ved=0ahUKEwiq8bGelsOAAxXf7TgGHbSUD80Q_AUIBCgA\">ALL</a></td><td class=\"EY24We\"><span class=\"QIqI7\">IMAGES</span></td><td><a class=\"CsQyDc\" href=\"/search?q=hawa+mahal&amp;sca_esv=553768703&amp;rlz=1C1ONGR_enIN1066&amp;biw=1366&amp;bih=619&amp;ie=UTF-8&amp;tbm=nws&amp;source=lnms&amp;sa=X&amp;ved=0ahUKEwiq8bGelsOAAxXf7TgGHbSUD80Q_AUIBigC\">NEWS</a></td><td><a class=\"CsQyDc\" href=\"/search?q=hawa+mahal&amp;sca_esv=553768703&amp;rlz=1C1ONGR_enIN1066&amp;biw=1366&amp;bih=619&amp;ie=UTF-8&amp;tbm=vid&amp;source=lnms&amp;sa=X&amp;ved=0ahUKEwiq8bGelsOAAxXf7TgGHbSUD80Q_AUIBygD\">VIDEOS</a></td></tr></tbody></table></div></div><div class=\"X6ZCif\"><a class=\"TwVfHd\" href=\"/search?sca_esv=553768703&amp;rlz=1C1ONGR_enIN1066&amp;biw=1366&amp;bih=619&amp;ie=UTF-8&amp;tbm=isch&amp;q=hawa+mahal&amp;chips=q:hawa+mahal,g_1:night&amp;sa=X&amp;ved=0ahUKEwiq8bGelsOAAxXf7TgGHbSUD80Q4lYICygA\">night</a><a class=\"TwVfHd\" href=\"/search?sca_esv=553768703&amp;rlz=1C1ONGR_enIN1066&amp;biw=1366&amp;bih=619&amp;ie=UTF-8&amp;tbm=isch&amp;q=hawa+mahal&amp;chips=q:hawa+mahal,g_1:rajasthan&amp;sa=X&amp;ved=0ahUKEwiq8bGelsOAAxXf7TgGHbSUD80Q4lYIDCgB\">rajasthan</a><a class=\"TwVfHd\" href=\"/search?sca_esv=553768703&amp;rlz=1C1ONGR_enIN1066&amp;biw=1366&amp;bih=619&amp;ie=UTF-8&amp;tbm=isch&amp;q=hawa+mahal&amp;chips=q:hawa+mahal,g_1:jaipur&amp;sa=X&amp;ved=0ahUKEwiq8bGelsOAAxXf7TgGHbSUD80Q4lYIDSgC\">jaipur</a><a class=\"TwVfHd\" href=\"/search?sca_esv=553768703&amp;rlz=1C1ONGR_enIN1066&amp;biw=1366&amp;bih=619&amp;ie=UTF-8&amp;tbm=isch&amp;q=hawa+mahal&amp;chips=q:hawa+mahal,g_1:interior&amp;sa=X&amp;ved=0ahUKEwiq8bGelsOAAxXf7TgGHbSUD80Q4lYIDigD\">interior</a><a class=\"TwVfHd\" href=\"/search?sca_esv=553768703&amp;rlz=1C1ONGR_enIN1066&amp;biw=1366&amp;bih=619&amp;ie=UTF-8&amp;tbm=isch&amp;q=hawa+mahal&amp;chips=q:hawa+mahal,g_1:wallpaper&amp;sa=X&amp;ved=0ahUKEwiq8bGelsOAAxXf7TgGHbSUD80Q4lYIDygE\">wallpaper</a><a class=\"TwVfHd\" href=\"/search?sca_esv=553768703&amp;rlz=1C1ONGR_enIN1066&amp;biw=1366&amp;bih=619&amp;ie=UTF-8&amp;tbm=isch&amp;q=hawa+mahal&amp;chips=q:hawa+mahal,g_1:drawing&amp;sa=X&amp;ved=0ahUKEwiq8bGelsOAAxXf7TgGHbSUD80Q4lYIECgF\">drawing</a><a class=\"TwVfHd\" href=\"/search?sca_esv=553768703&amp;rlz=1C1ONGR_enIN1066&amp;biw=1366&amp;bih=619&amp;ie=UTF-8&amp;tbm=isch&amp;q=hawa+mahal&amp;chips=q:hawa+mahal,g_1:architecture&amp;sa=X&amp;ved=0ahUKEwiq8bGelsOAAxXf7TgGHbSUD80Q4lYIESgG\">architecture</a><a class=\"TwVfHd\" href=\"/search?sca_esv=553768703&amp;rlz=1C1ONGR_enIN1066&amp;biw=1366&amp;bih=619&amp;ie=UTF-8&amp;tbm=isch&amp;q=hawa+mahal&amp;chips=q:hawa+mahal,g_1:jantar+mantar&amp;sa=X&amp;ved=0ahUKEwiq8bGelsOAAxXf7TgGHbSUD80Q4lYIEigH\">jantar mantar</a><a class=\"TwVfHd\" href=\"/search?sca_esv=553768703&amp;rlz=1C1ONGR_enIN1066&amp;biw=1366&amp;bih=619&amp;ie=UTF-8&amp;tbm=isch&amp;q=hawa+mahal&amp;chips=q:hawa+mahal,g_1:india&amp;sa=X&amp;ved=0ahUKEwiq8bGelsOAAxXf7TgGHbSUD80Q4lYIEygI\">india</a><a class=\"TwVfHd\" href=\"/search?sca_esv=553768703&amp;rlz=1C1ONGR_enIN1066&amp;biw=1366&amp;bih=619&amp;ie=UTF-8&amp;tbm=isch&amp;q=hawa+mahal&amp;chips=q:hawa+mahal,g_1:taj+mahal&amp;sa=X&amp;ved=0ahUKEwiq8bGelsOAAxXf7TgGHbSUD80Q4lYIFCgJ\">taj mahal</a></div><div><table class=\"GpQGbf\"><tr><td align=\"center\" class=\"e3goi\"><div class=\"mnTahd\"> <div> <div class=\"lIMUZd\"><div><table class=\"IkMU6e\"><tr><td><a href=\"/url?q=https://en.wikipedia.org/wiki/Hawa_Mahal&amp;sa=U&amp;ved=2ahUKEwiq8bGelsOAAxXf7TgGHbSUD80QqoUBegQICBAB&amp;usg=AOvVaw0ZPGhE4S7AePh2Np5KXn8Q\"><div class=\"NZWO1b\"><img alt=\"\" class=\"yWs4tf\" src=\"https://encrypted-tbn0.gstatic.com/images?q=tbn:ANd9GcSJDugfrslBzY0obvYxYI31dSzps4Q5ljUpElhB0sCvUDpXz3cmRBjMyJIeaUY&amp;s\"/></div></a></td></tr><tr><td><a href=\"/url?q=https://en.wikipedia.org/wiki/Hawa_Mahal&amp;sa=U&amp;ved=2ahUKEwiq8bGelsOAAxXf7TgGHbSUD80Qr4kDegQICBAC&amp;usg=AOvVaw233gdUe4KCoqmziRiXC1by\"><div class=\"jB2rPd\"> <span class=\"qXLe6d x3G5ab\"> <span class=\"fYyStc\">Hawa Mahal - Wikipedia</span> </span> <span class=\"qXLe6d F9iS2e\"> <span class=\"fYyStc\">en.wikipedia.org</span> </span> </div></a></td></tr></table></div></div> </div> </div></td><td align=\"center\" class=\"e3goi\"><div class=\"mnTahd\"> <div> <div class=\"lIMUZd\"><div><table class=\"IkMU6e\"><tr><td><a href=\"/url?q=https://www.moneycontrol.com/news/trends/features/design-heritage-what-architects-today-can-take-away-from-hawa-mahal-in-jaipur-10501851.html&amp;sa=U&amp;ved=2ahUKEwiq8bGelsOAAxXf7TgGHbSUD80QqoUBegQIExAB&amp;usg=AOvVaw19GL2XSbMAbFPpOQpL-iGR\"><div class=\"NZWO1b\"><img alt=\"\" class=\"yWs4tf\" src=\"https://encrypted-tbn0.gstatic.com/images?q=tbn:ANd9GcRYfz0fVrAZWE_0ms5TKfupwFs4c9gs1yEUrvd0k9g5X3GHM2nh-0viHwQAbK4&amp;s\"/></div></a></td></tr><tr><td><a href=\"/url?q=https://www.moneycontrol.com/news/trends/features/design-heritage-what-architects-today-can-take-away-from-hawa-mahal-in-jaipur-10501851.html&amp;sa=U&amp;ved=2ahUKEwiq8bGelsOAAxXf7TgGHbSUD80Qr4kDegQIExAC&amp;usg=AOvVaw12QVliDeOxOdKA9q2phYR7\"><div class=\"jB2rPd\"> <span class=\"qXLe6d x3G5ab\"> <span class=\"fYyStc\">Design heritage: What...</span> </span> <span class=\"qXLe6d F9iS2e\"> <span class=\"fYyStc\">www.moneycontrol.com</span> </span> </div></a></td></tr></table></div></div> </div> </div></td><td align=\"center\" class=\"e3goi\"><div class=\"mnTahd\"> <div> <div class=\"lIMUZd\"><div><table class=\"IkMU6e\"><tr><td><a href=\"/url?q=https://www.britannica.com/place/Hawa-Mahal&amp;sa=U&amp;ved=2ahUKEwiq8bGelsOAAxXf7TgGHbSUD80QqoUBegQIEhAB&amp;usg=AOvVaw2QoCsQVZu-P8EYZ9_sBotR\"><div class=\"NZWO1b\"><img alt=\"\" class=\"yWs4tf\" src=\"https://encrypted-tbn0.gstatic.com/images?q=tbn:ANd9GcRHL2O4pU7pxPciBrD6vt0MV2DdKgk6Yl74uLxUvXJfLiIhjD5VFlliV9fIoQ&amp;s\"/></div></a></td></tr><tr><td><a href=\"/url?q=https://www.britannica.com/place/Hawa-Mahal&amp;sa=U&amp;ved=2ahUKEwiq8bGelsOAAxXf7TgGHbSUD80Qr4kDegQIEhAC&amp;usg=AOvVaw2UFgpcuHY9AYwN88lSLvYu\"><div class=\"jB2rPd\"> <span class=\"qXLe6d x3G5ab\"> <span class=\"fYyStc\">Hawa Mahal | Map,...</span> </span> <span class=\"qXLe6d F9iS2e\"> <span class=\"fYyStc\">www.britannica.com</span> </span> </div></a></td></tr></table></div></div> </div> </div></td><td align=\"center\" class=\"e3goi\"><div class=\"mnTahd\"> <div> <div class=\"lIMUZd\"><div><table class=\"IkMU6e\"><tr><td><a href=\"/url?q=https://www.dhyeyaias.com/current-affairs/daily-current-affairs/the-iconic-monument-of-jaipur-hawa-mahal&amp;sa=U&amp;ved=2ahUKEwiq8bGelsOAAxXf7TgGHbSUD80QqoUBegQIERAB&amp;usg=AOvVaw2FapPBmRmnrpGTYuwh1k4L\"><div class=\"NZWO1b\"><img alt=\"\" class=\"yWs4tf\" src=\"https://encrypted-tbn0.gstatic.com/images?q=tbn:ANd9GcRZgJBK9OP_4WfGwUlFg4RR4JNin7jmZPHjEdy5PhDJh6iNCkhP7_M5yPcECg&amp;s\"/></div></a></td></tr><tr><td><a href=\"/url?q=https://www.dhyeyaias.com/current-affairs/daily-current-affairs/the-iconic-monument-of-jaipur-hawa-mahal&amp;sa=U&amp;ved=2ahUKEwiq8bGelsOAAxXf7TgGHbSUD80Qr4kDegQIERAC&amp;usg=AOvVaw3KaWtW1yn2mwb4Vv60D-xZ\"><div class=\"jB2rPd\"> <span class=\"qXLe6d x3G5ab\"> <span class=\"fYyStc\">The Iconic Monument of...</span> </span> <span class=\"qXLe6d F9iS2e\"> <span class=\"fYyStc\">www.dhyeyaias.com</span> </span> </div></a></td></tr></table></div></div> </div> </div></td></tr><tr><td align=\"center\" class=\"e3goi\"><div class=\"mnTahd\"> <div> <div class=\"lIMUZd\"><div><table class=\"IkMU6e\"><tr><td><a href=\"/url?q=https://navbharattimes.indiatimes.com/travel/travel-tips/facts-about-hawa-mahal-jaipur-rajasthan-in-hindi/articleshow/86254269.cms&amp;sa=U&amp;ved=2ahUKEwiq8bGelsOAAxXf7TgGHbSUD80QqoUBegQIEBAB&amp;usg=AOvVaw1pe4P58dDKq001sclNTwVq\"><div class=\"NZWO1b\"><img alt=\"\" class=\"yWs4tf\" src=\"https://encrypted-tbn0.gstatic.com/images?q=tbn:ANd9GcQEXlNOPuY25CBdAGc0P6bLC_2laFWYWUvXPFwkR2nfaQ4foqH8vse23rcL9cU&amp;s\"/></div></a></td></tr><tr><td><a href=\"/url?q=https://navbharattimes.indiatimes.com/travel/travel-tips/facts-about-hawa-mahal-jaipur-rajasthan-in-hindi/articleshow/86254269.cms&amp;sa=U&amp;ved=2ahUKEwiq8bGelsOAAxXf7TgGHbSUD80Qr4kDegQIEBAC&amp;usg=AOvVaw1ikHCP31vBEmVmDxoTQRFD\"><div class=\"jB2rPd\"> <span class=\"qXLe6d x3G5ab\"> <span class=\"fYyStc\">Information About Hawa...</span> </span> <span class=\"qXLe6d F9iS2e\"> <span class=\"fYyStc\">navbharattimes.indiatimes.c...</span> </span> </div></a></td></tr></table></div></div> </div> </div></td><td align=\"center\" class=\"e3goi\"><div class=\"mnTahd\"> <div> <div class=\"lIMUZd\"><div><table class=\"IkMU6e\"><tr><td><a href=\"/url?q=https://www.fabhotels.com/blog/hawa-mahal-jaipur/&amp;sa=U&amp;ved=2ahUKEwiq8bGelsOAAxXf7TgGHbSUD80QqoUBegQIDxAB&amp;usg=AOvVaw0gG-2VSi6JQmVtecPKeu_J\"><div class=\"NZWO1b\"><img alt=\"\" class=\"yWs4tf\" src=\"https://encrypted-tbn0.gstatic.com/images?q=tbn:ANd9GcRkT_gZOQYIKbLNLFt-ti4E_Jvl1037xaodw0zOHX17d7uTL524cdZtHdoCIg&amp;s\"/></div></a></td></tr><tr><td><a href=\"/url?q=https://www.fabhotels.com/blog/hawa-mahal-jaipur/&amp;sa=U&amp;ved=2ahUKEwiq8bGelsOAAxXf7TgGHbSUD80Qr4kDegQIDxAC&amp;usg=AOvVaw3NPupQh4n7VLgW0ji33KUw\"><div class=\"jB2rPd\"> <span class=\"qXLe6d x3G5ab\"> <span class=\"fYyStc\">Hawa Mahal, Jaipur:...</span> </span> <span class=\"qXLe6d F9iS2e\"> <span class=\"fYyStc\">www.fabhotels.com</span> </span> </div></a></td></tr></table></div></div> </div> </div></td><td align=\"center\" class=\"e3goi\"><div class=\"mnTahd\"> <div> <div class=\"lIMUZd\"><div><table class=\"IkMU6e\"><tr><td><a href=\"/url?q=https://medium.com/%40inditrip.in/interesting-facts-about-hawa-mahal-rajasthan-851e15ac2ceb&amp;sa=U&amp;ved=2ahUKEwiq8bGelsOAAxXf7TgGHbSUD80QqoUBegQIDRAB&amp;usg=AOvVaw0w-M08QWJWe30GKNj6jIuE\"><div class=\"NZWO1b\"><img alt=\"\" class=\"yWs4tf\" src=\"https://encrypted-tbn0.gstatic.com/images?q=tbn:ANd9GcSdEQqH5IrboDauqm7_V2o5yXG0W7DatAECDIbtuJ0GoBYDxh_usxJx8yvKWA&amp;s\"/></div></a></td></tr><tr><td><a href=\"/url?q=https://medium.com/%40inditrip.in/interesting-facts-about-hawa-mahal-rajasthan-851e15ac2ceb&amp;sa=U&amp;ved=2ahUKEwiq8bGelsOAAxXf7TgGHbSUD80Qr4kDegQIDRAC&amp;usg=AOvVaw07F2VovlS8w5vwrj2dLIAz\"><div class=\"jB2rPd\"> <span class=\"qXLe6d x3G5ab\"> <span class=\"fYyStc\">Interesting Facts About...</span> </span> <span class=\"qXLe6d F9iS2e\"> <span class=\"fYyStc\">medium.com</span> </span> </div></a></td></tr></table></div></div> </div> </div></td><td align=\"center\" class=\"e3goi\"><div class=\"mnTahd\"> <div> <div class=\"lIMUZd\"><div><table class=\"IkMU6e\"><tr><td><a href=\"/url?q=https://haydenrue.com/india/rajasthan/hawa-mahal-in-jaipur/&amp;sa=U&amp;ved=2ahUKEwiq8bGelsOAAxXf7TgGHbSUD80QqoUBegQIDhAB&amp;usg=AOvVaw0puNHJzOP7ELS0frD1o31p\"><div class=\"NZWO1b\"><img alt=\"\" class=\"yWs4tf\" src=\"https://encrypted-tbn0.gstatic.com/images?q=tbn:ANd9GcSqT8wFl1HjEuKD579AyCNOlM31DyogoHrHgej-fkELqcX5N2V0oCcMBEyd20c&amp;s\"/></div></a></td></tr><tr><td><a href=\"/url?q=https://haydenrue.com/india/rajasthan/hawa-mahal-in-jaipur/&amp;sa=U&amp;ved=2ahUKEwiq8bGelsOAAxXf7TgGHbSUD80Qr4kDegQIDhAC&amp;usg=AOvVaw0qH6vCAjwZZckKzZf_khkv\"><div class=\"jB2rPd\"> <span class=\"qXLe6d x3G5ab\"> <span class=\"fYyStc\">Hawa Mahal in Jaipur: The...</span> </span> <span class=\"qXLe6d F9iS2e\"> <span class=\"fYyStc\">haydenrue.com</span> </span> </div></a></td></tr></table></div></div> </div> </div></td></tr><tr><td align=\"center\" class=\"e3goi\"><div class=\"mnTahd\"> <div> <div class=\"lIMUZd\"><div><table class=\"IkMU6e\"><tr><td><a href=\"/url?q=https://www.tripadvisor.in/Attraction_Review-g304555-d317345-Reviews-Hawa_Mahal_Palace_of_Wind-Jaipur_Jaipur_District_Rajasthan.html&amp;sa=U&amp;ved=2ahUKEwiq8bGelsOAAxXf7TgGHbSUD80QqoUBegQIChAB&amp;usg=AOvVaw0QeCUh81wgZ4eiDooLNB17\"><div class=\"NZWO1b\"><img alt=\"\" class=\"yWs4tf\" src=\"https://encrypted-tbn0.gstatic.com/images?q=tbn:ANd9GcSdTRQ6BDySDySEU24oUs_afKKR9ydvODAhvhyidYZ7dU0QJKJgExGdFJvzvQ&amp;s\"/></div></a></td></tr><tr><td><a href=\"/url?q=https://www.tripadvisor.in/Attraction_Review-g304555-d317345-Reviews-Hawa_Mahal_Palace_of_Wind-Jaipur_Jaipur_District_Rajasthan.html&amp;sa=U&amp;ved=2ahUKEwiq8bGelsOAAxXf7TgGHbSUD80Qr4kDegQIChAC&amp;usg=AOvVaw2V6s0rE2GA6xOLtVf3_FML\"><div class=\"jB2rPd\"> <span class=\"qXLe6d x3G5ab\"> <span class=\"fYyStc\">Hawa Mahal - Palace of Wind...</span> </span> <span class=\"qXLe6d F9iS2e\"> <span class=\"fYyStc\">www.tripadvisor.in</span> </span> </div></a></td></tr></table></div></div> </div> </div></td><td align=\"center\" class=\"e3goi\"><div class=\"mnTahd\"> <div> <div class=\"lIMUZd\"><div><table class=\"IkMU6e\"><tr><td><a href=\"/url?q=https://www.tourmyindia.com/states/rajasthan/hawa-mahal-jaipur.html&amp;sa=U&amp;ved=2ahUKEwiq8bGelsOAAxXf7TgGHbSUD80QqoUBegQICRAB&amp;usg=AOvVaw0VRr9kMO7U59t4Eyh1RXIB\"><div class=\"NZWO1b\"><img alt=\"\" class=\"yWs4tf\" src=\"https://encrypted-tbn0.gstatic.com/images?q=tbn:ANd9GcQ2qp334psOBX8dpFJm56dFKsV5e_dVix49V3iY-go79GkEij9WzSUKxkfBIw&amp;s\"/></div></a></td></tr><tr><td><a href=\"/url?q=https://www.tourmyindia.com/states/rajasthan/hawa-mahal-jaipur.html&amp;sa=U&amp;ved=2ahUKEwiq8bGelsOAAxXf7TgGHbSUD80Qr4kDegQICRAC&amp;usg=AOvVaw3oxmKPwPw2SbGkzp6faoWz\"><div class=\"jB2rPd\"> <span class=\"qXLe6d x3G5ab\"> <span class=\"fYyStc\">Hawa Mahal Jaipur - The...</span> </span> <span class=\"qXLe6d F9iS2e\"> <span class=\"fYyStc\">www.tourmyindia.com</span> </span> </div></a></td></tr></table></div></div> </div> </div></td><td align=\"center\" class=\"e3goi\"><div class=\"mnTahd\"> <div> <div class=\"lIMUZd\"><div><table class=\"IkMU6e\"><tr><td><a href=\"/url?q=https://timesofindia.indiatimes.com/travel/destinations/jaipurs-hawa-mahal-an-iconic-piece-of-architecture-and-its-history/articleshow/101334904.cms&amp;sa=U&amp;ved=2ahUKEwiq8bGelsOAAxXf7TgGHbSUD80QqoUBegQIDBAB&amp;usg=AOvVaw2ZsWivXW7cH7kocffPo3w6\"><div class=\"NZWO1b\"><img alt=\"\" class=\"yWs4tf\" src=\"https://encrypted-tbn0.gstatic.com/images?q=tbn:ANd9GcTsQgPjWYN2ax7km9fCZ4QlkQIcZSHDqBZPTnFBUiN-nvCFSeMsMoe2ZANbDg&amp;s\"/></div></a></td></tr><tr><td><a href=\"/url?q=https://timesofindia.indiatimes.com/travel/destinations/jaipurs-hawa-mahal-an-iconic-piece-of-architecture-and-its-history/articleshow/101334904.cms&amp;sa=U&amp;ved=2ahUKEwiq8bGelsOAAxXf7TgGHbSUD80Qr4kDegQIDBAC&amp;usg=AOvVaw2Pa3N8YqQ1smaWMX6DcFb6\"><div class=\"jB2rPd\"> <span class=\"qXLe6d x3G5ab\"> <span class=\"fYyStc\">Jaipur's Hawa Mahal, an...</span> </span> <span class=\"qXLe6d F9iS2e\"> <span class=\"fYyStc\">timesofindia.indiatimes.com...</span> </span> </div></a></td></tr></table></div></div> </div> </div></td><td align=\"center\" class=\"e3goi\"><div class=\"mnTahd\"> <div> <div class=\"lIMUZd\"><div><table class=\"IkMU6e\"><tr><td><a href=\"/url?q=https://www.india.com/travel/articles/these-8-pictures-of-hawa-mahal-will-make-you-want-to-go-there-soon-3239504/&amp;sa=U&amp;ved=2ahUKEwiq8bGelsOAAxXf7TgGHbSUD80QqoUBegQICxAB&amp;usg=AOvVaw1nLQNGbzdG-r19yWQbQFM-\"><div class=\"NZWO1b\"><img alt=\"\" class=\"yWs4tf\" src=\"https://encrypted-tbn0.gstatic.com/images?q=tbn:ANd9GcRDWG31N3xhlY0frl66hrcN0dcX7y3kB-uq4zH_UnvMB5sR7xr5XrVDZJmoyy0&amp;s\"/></div></a></td></tr><tr><td><a href=\"/url?q=https://www.india.com/travel/articles/these-8-pictures-of-hawa-mahal-will-make-you-want-to-go-there-soon-3239504/&amp;sa=U&amp;ved=2ahUKEwiq8bGelsOAAxXf7TgGHbSUD80Qr4kDegQICxAC&amp;usg=AOvVaw1zw4jC_YLkkEJc1B8tbjtv\"><div class=\"jB2rPd\"> <span class=\"qXLe6d x3G5ab\"> <span class=\"fYyStc\">These 8 Pictures of Hawa...</span> </span> <span class=\"qXLe6d F9iS2e\"> <span class=\"fYyStc\">www.india.com</span> </span> </div></a></td></tr></table></div></div> </div> </div></td></tr><tr><td align=\"center\" class=\"e3goi\"><div class=\"mnTahd\"> <div> <div class=\"lIMUZd\"><div><table class=\"IkMU6e\"><tr><td><a href=\"/url?q=https://www.goaexperience.co.uk/blog/5-interesting-facts-about-the-hawa-mahal&amp;sa=U&amp;ved=2ahUKEwiq8bGelsOAAxXf7TgGHbSUD80QqoUBegQIARAB&amp;usg=AOvVaw1zK79Cz2zFxPepAaI66hA3\"><div class=\"NZWO1b\"><img alt=\"\" class=\"yWs4tf\" src=\"https://encrypted-tbn0.gstatic.com/images?q=tbn:ANd9GcT3CUu8LRnSCARga9IDQpoHXKjjM7QlCuV5rAU9XokFQxBmzltLNtaHgfKaxQ&amp;s\"/></div></a></td></tr><tr><td><a href=\"/url?q=https://www.goaexperience.co.uk/blog/5-interesting-facts-about-the-hawa-mahal&amp;sa=U&amp;ved=2ahUKEwiq8bGelsOAAxXf7TgGHbSUD80Qr4kDegQIARAC&amp;usg=AOvVaw0MtfSOcFu2Qavg66L3huQU\"><div class=\"jB2rPd\"> <span class=\"qXLe6d x3G5ab\"> <span class=\"fYyStc\">Hawa Mahal Facts | Goa Blog...</span> </span> <span class=\"qXLe6d F9iS2e\"> <span class=\"fYyStc\">www.goaexperience.co.uk</span> </span> </div></a></td></tr></table></div></div> </div> </div></td><td align=\"center\" class=\"e3goi\"><div class=\"mnTahd\"> <div> <div class=\"lIMUZd\"><div><table class=\"IkMU6e\"><tr><td><a href=\"/url?q=https://www.jaipurstuff.com/hawa-mahal-jaipur/&amp;sa=U&amp;ved=2ahUKEwiq8bGelsOAAxXf7TgGHbSUD80QqoUBegQIABAB&amp;usg=AOvVaw1w5c-rbuDUVnhT3OC2Dwh1\"><div class=\"NZWO1b\"><img alt=\"\" class=\"yWs4tf\" src=\"https://encrypted-tbn0.gstatic.com/images?q=tbn:ANd9GcRNaDD9ehHrlaGAHxet8ayna1PgrKn0q_UkT99kJCSHfBripDtWI99c5fTUATg&amp;s\"/></div></a></td></tr><tr><td><a href=\"/url?q=https://www.jaipurstuff.com/hawa-mahal-jaipur/&amp;sa=U&amp;ved=2ahUKEwiq8bGelsOAAxXf7TgGHbSUD80Qr4kDegQIABAC&amp;usg=AOvVaw2AQlKOaVm5u3pScVve58yP\"><div class=\"jB2rPd\"> <span class=\"qXLe6d x3G5ab\"> <span class=\"fYyStc\">Ever been inside Hawa Mahal...</span> </span> <span class=\"qXLe6d F9iS2e\"> <span class=\"fYyStc\">www.jaipurstuff.com</span> </span> </div></a></td></tr></table></div></div> </div> </div></td><td align=\"center\" class=\"e3goi\"><div class=\"mnTahd\"> <div> <div class=\"lIMUZd\"><div><table class=\"IkMU6e\"><tr><td><a href=\"/url?q=https://www.cnn.com/travel/article/india-hawa-mahal-palace-of-the-winds/index.html&amp;sa=U&amp;ved=2ahUKEwiq8bGelsOAAxXf7TgGHbSUD80QqoUBegQIAhAB&amp;usg=AOvVaw0lX_S4JYAvnmCxTil6XjNd\"><div class=\"NZWO1b\"><img alt=\"\" class=\"yWs4tf\" src=\"https://encrypted-tbn0.gstatic.com/images?q=tbn:ANd9GcSZ32Q-s-833xSerLEjygm2K1o7vU8lf6MZnXOl2mj55fNS8_81g2Eqyz92tj0&amp;s\"/></div></a></td></tr><tr><td><a href=\"/url?q=https://www.cnn.com/travel/article/india-hawa-mahal-palace-of-the-winds/index.html&amp;sa=U&amp;ved=2ahUKEwiq8bGelsOAAxXf7TgGHbSUD80Qr4kDegQIAhAC&amp;usg=AOvVaw1cUd4lpvrJ1I0RWzqYWTuT\"><div class=\"jB2rPd\"> <span class=\"qXLe6d x3G5ab\"> <span class=\"fYyStc\">Hawa Mahal: How India's...</span> </span> <span class=\"qXLe6d F9iS2e\"> <span class=\"fYyStc\">www.cnn.com</span> </span> </div></a></td></tr></table></div></div> </div> </div></td><td align=\"center\" class=\"e3goi\"><div class=\"mnTahd\"> <div> <div class=\"lIMUZd\"><div><table class=\"IkMU6e\"><tr><td><a href=\"/url?q=https://www.alamy.com/interior-of-hawa-mahal-palace-is-palace-of-winds-in-jaipur-rajasthan-india-image245000834.html&amp;sa=U&amp;ved=2ahUKEwiq8bGelsOAAxXf7TgGHbSUD80QqoUBegQIBxAB&amp;usg=AOvVaw3nhRqMAC8wrWpMfzJ1dmt1\"><div class=\"NZWO1b\"><img alt=\"\" class=\"yWs4tf\" src=\"https://encrypted-tbn0.gstatic.com/images?q=tbn:ANd9GcTLTRY80JP5_e5So1vOq0HuNgZTNe6ZUXPaepDdTPIHkcc5hfgxOUPeYArC3w&amp;s\"/></div></a></td></tr><tr><td><a href=\"/url?q=https://www.alamy.com/interior-of-hawa-mahal-palace-is-palace-of-winds-in-jaipur-rajasthan-india-image245000834.html&amp;sa=U&amp;ved=2ahUKEwiq8bGelsOAAxXf7TgGHbSUD80Qr4kDegQIBxAC&amp;usg=AOvVaw0Xn94z-pnc0O1d0tDQ24H9\"><div class=\"jB2rPd\"> <span class=\"qXLe6d x3G5ab\"> <span class=\"fYyStc\">Interior of Hawa Mahal...</span> </span> <span class=\"qXLe6d F9iS2e\"> <span class=\"fYyStc\">www.alamy.com</span> </span> </div></a></td></tr></table></div></div> </div> </div></td></tr><tr><td align=\"center\" class=\"e3goi\"><div class=\"mnTahd\"> <div> <div class=\"lIMUZd\"><div><table class=\"IkMU6e\"><tr><td><a href=\"/url?q=https://hawamahalfestival.in/&amp;sa=U&amp;ved=2ahUKEwiq8bGelsOAAxXf7TgGHbSUD80QqoUBegQIBBAB&amp;usg=AOvVaw0N-ihVdSqbPesqfT2EU4HB\"><div class=\"NZWO1b\"><img alt=\"\" class=\"yWs4tf\" src=\"https://encrypted-tbn0.gstatic.com/images?q=tbn:ANd9GcT7dKGh3Nh_XRnC924oRWlcTO2JKctRxWkvIpWojAJl7GUvq7tHF2otwX-VJg&amp;s\"/></div></a></td></tr><tr><td><a href=\"/url?q=https://hawamahalfestival.in/&amp;sa=U&amp;ved=2ahUKEwiq8bGelsOAAxXf7TgGHbSUD80Qr4kDegQIBBAC&amp;usg=AOvVaw1ulIxeOH9Iav4Ex9tCYhfb\"><div class=\"jB2rPd\"> <span class=\"qXLe6d x3G5ab\"> <span class=\"fYyStc\">HAWA MAHAL FESTIVAL</span> </span> <span class=\"qXLe6d F9iS2e\"> <span class=\"fYyStc\">hawamahalfestival.in</span> </span> </div></a></td></tr></table></div></div> </div> </div></td><td align=\"center\" class=\"e3goi\"><div class=\"mnTahd\"> <div> <div class=\"lIMUZd\"><div><table class=\"IkMU6e\"><tr><td><a href=\"/url?q=https://www.alamy.com/stock-photo/interior-of-hawa-mahal.html&amp;sa=U&amp;ved=2ahUKEwiq8bGelsOAAxXf7TgGHbSUD80QqoUBegQIBhAB&amp;usg=AOvVaw2pOwMivkOAF08Lg5W3d3Xm\"><div class=\"NZWO1b\"><img alt=\"\" class=\"yWs4tf\" src=\"https://encrypted-tbn0.gstatic.com/images?q=tbn:ANd9GcRvg4ujRm5iIUcYX6o5ZVvrTdyU-Pbo2zyyV0A_hIPn7q7r16aDjzOZv_4X6Uw&amp;s\"/></div></a></td></tr><tr><td><a href=\"/url?q=https://www.alamy.com/stock-photo/interior-of-hawa-mahal.html&amp;sa=U&amp;ved=2ahUKEwiq8bGelsOAAxXf7TgGHbSUD80Qr4kDegQIBhAC&amp;usg=AOvVaw2PxHpk78A1jJV_9aExWD1M\"><div class=\"jB2rPd\"> <span class=\"qXLe6d x3G5ab\"> <span class=\"fYyStc\">Interior of hawa mahal...</span> </span> <span class=\"qXLe6d F9iS2e\"> <span class=\"fYyStc\">www.alamy.com</span> </span> </div></a></td></tr></table></div></div> </div> </div></td><td align=\"center\" class=\"e3goi\"><div class=\"mnTahd\"> <div> <div class=\"lIMUZd\"><div><table class=\"IkMU6e\"><tr><td><a href=\"/url?q=https://www.123rf.com/photo_139240751_young-woman-during-sunset-at-hawa-mahal-jaipur-rajasthan-india.html&amp;sa=U&amp;ved=2ahUKEwiq8bGelsOAAxXf7TgGHbSUD80QqoUBegQIBRAB&amp;usg=AOvVaw1rDZPR87PIT8SshMZh5SMa\"><div class=\"NZWO1b\"><img alt=\"\" class=\"yWs4tf\" src=\"https://encrypted-tbn0.gstatic.com/images?q=tbn:ANd9GcRLAzSn_ZIuWu6YVgecZdFAM6C1mxds6aQZB1YaPoZS_f8OLweF_FusFiaqH5g&amp;s\"/></div></a></td></tr><tr><td><a href=\"/url?q=https://www.123rf.com/photo_139240751_young-woman-during-sunset-at-hawa-mahal-jaipur-rajasthan-india.html&amp;sa=U&amp;ved=2ahUKEwiq8bGelsOAAxXf7TgGHbSUD80Qr4kDegQIBRAC&amp;usg=AOvVaw32qf2vsx8HYYE-itH3i7yf\"><div class=\"jB2rPd\"> <span class=\"qXLe6d x3G5ab\"> <span class=\"fYyStc\">Young Woman During Sunset...</span> </span> <span class=\"qXLe6d F9iS2e\"> <span class=\"fYyStc\">www.123rf.com</span> </span> </div></a></td></tr></table></div></div> </div> </div></td><td align=\"center\" class=\"e3goi\"><div class=\"mnTahd\"> <div> <div class=\"lIMUZd\"><div><table class=\"IkMU6e\"><tr><td><a href=\"/url?q=https://touristplace.in/hawa-mahal-sightseeing/&amp;sa=U&amp;ved=2ahUKEwiq8bGelsOAAxXf7TgGHbSUD80QqoUBegQIAxAB&amp;usg=AOvVaw1UrsuQLsUZgsu2MpcgR-c5\"><div class=\"NZWO1b\"><img alt=\"\" class=\"yWs4tf\" src=\"https://encrypted-tbn0.gstatic.com/images?q=tbn:ANd9GcQxU0zAPitzjIGypEFhxGlxqBY4prbN0Z3jSIYPAllmcFB0LUb4fFPGSOsq9w&amp;s\"/></div></a></td></tr><tr><td><a href=\"/url?q=https://touristplace.in/hawa-mahal-sightseeing/&amp;sa=U&amp;ved=2ahUKEwiq8bGelsOAAxXf7TgGHbSUD80Qr4kDegQIAxAC&amp;usg=AOvVaw15NUUxHHWhAURjedAMet3-\"><div class=\"jB2rPd\"> <span class=\"qXLe6d x3G5ab\"> <span class=\"fYyStc\">Hawa Mahal - Get Ready to...</span> </span> <span class=\"qXLe6d F9iS2e\"> <span class=\"fYyStc\">touristplace.in</span> </span> </div></a></td></tr></table></div></div> </div> </div></td></tr></table></div><table class=\"uZgmoc\"><tbody><td><a class=\"frGj1b\" href=\"/search?q=hawa+mahal&amp;sca_esv=553768703&amp;rlz=1C1ONGR_enIN1066&amp;biw=1366&amp;bih=619&amp;ie=UTF-8&amp;tbm=isch&amp;ei=rAXNZKrrAt_b4-EPtKm-6Aw&amp;start=20&amp;sa=N\">Next &gt;</a></td></tbody></table><br/><div class=\"TuS8Ad\" data-ved=\"0ahUKEwiq8bGelsOAAxXf7TgGHbSUD80QpyoIUg\"><style>.VYM29{font-weight:bold}</style><div align=\"center\" class=\"HddGcc\"><span class=\"VYM29\">247776, Uttar Pradesh</span><span> - </span><span>From your IP address</span><span> - </span><a href=\"/url?q=https://support.google.com/websearch%3Fp%3Dws_settings_location%26hl%3Den-IN&amp;sa=U&amp;ved=0ahUKEwiq8bGelsOAAxXf7TgGHbSUD80Qty4IUw&amp;usg=AOvVaw2qX-PXQgwdY3KZogOG_U-1\">Learn more</a></div><div align=\"center\"><a class=\"rEM8G\" href=\"/url?q=https://accounts.google.com/ServiceLogin%3Fcontinue%3Dhttps://www.google.com/search%253Fsca_esv%253D553768703%2526rlz%253D1C1ONGR_enIN1066%2526q%253Dhawa%252Bmahal%2526tbm%253Disch%2526source%253Dlnms%2526sa%253DX%2526ved%253D2ahUKEwj308aoh8OAAxXqTGwGHSEpAW0Q0pQJegQIDRAB%2526biw%253D1366%2526bih%253D619%2526dpr%253D1%26hl%3Den&amp;sa=U&amp;ved=0ahUKEwiq8bGelsOAAxXf7TgGHbSUD80Qxs8CCFQ&amp;usg=AOvVaw0k39CRzCbliY51fCrJp4FR\">Sign in</a></div><div><table class=\"bookcf\"><tbody class=\"InWNIe\"><tr><td><a class=\"rEM8G\" href=\"https://www.google.com/preferences?hl=en&amp;sa=X&amp;ved=0ahUKEwiq8bGelsOAAxXf7TgGHbSUD80Qv5YECFU\">Settings</a></td><td><a class=\"rEM8G\" href=\"https://www.google.com/intl/en_in/policies/privacy/\">Privacy</a></td><td><a class=\"rEM8G\" href=\"https://www.google.com/intl/en_in/policies/terms/\">Terms</a></td></tr></tbody></table></div></div><div> </div></body></html>"
      ]
     },
     "execution_count": 108,
     "metadata": {},
     "output_type": "execute_result"
    }
   ],
   "source": [
    "soup"
   ]
  },
  {
   "cell_type": "code",
   "execution_count": 109,
   "id": "3623c45a-e931-4b38-987b-40b9ae74fbe4",
   "metadata": {},
   "outputs": [],
   "source": [
    "image_tags=soup.find_all(\"img\")"
   ]
  },
  {
   "cell_type": "code",
   "execution_count": 110,
   "id": "0310c593-3b4a-4950-84d6-7f288086544e",
   "metadata": {},
   "outputs": [],
   "source": [
    "del image_tags[0]"
   ]
  },
  {
   "cell_type": "code",
   "execution_count": 111,
   "id": "736d5e6d-bf17-452b-8d78-42cd04543f95",
   "metadata": {},
   "outputs": [
    {
     "data": {
      "text/plain": [
       "[<img alt=\"\" class=\"yWs4tf\" src=\"https://encrypted-tbn0.gstatic.com/images?q=tbn:ANd9GcSJDugfrslBzY0obvYxYI31dSzps4Q5ljUpElhB0sCvUDpXz3cmRBjMyJIeaUY&amp;s\"/>,\n",
       " <img alt=\"\" class=\"yWs4tf\" src=\"https://encrypted-tbn0.gstatic.com/images?q=tbn:ANd9GcRYfz0fVrAZWE_0ms5TKfupwFs4c9gs1yEUrvd0k9g5X3GHM2nh-0viHwQAbK4&amp;s\"/>,\n",
       " <img alt=\"\" class=\"yWs4tf\" src=\"https://encrypted-tbn0.gstatic.com/images?q=tbn:ANd9GcRHL2O4pU7pxPciBrD6vt0MV2DdKgk6Yl74uLxUvXJfLiIhjD5VFlliV9fIoQ&amp;s\"/>,\n",
       " <img alt=\"\" class=\"yWs4tf\" src=\"https://encrypted-tbn0.gstatic.com/images?q=tbn:ANd9GcRZgJBK9OP_4WfGwUlFg4RR4JNin7jmZPHjEdy5PhDJh6iNCkhP7_M5yPcECg&amp;s\"/>,\n",
       " <img alt=\"\" class=\"yWs4tf\" src=\"https://encrypted-tbn0.gstatic.com/images?q=tbn:ANd9GcQEXlNOPuY25CBdAGc0P6bLC_2laFWYWUvXPFwkR2nfaQ4foqH8vse23rcL9cU&amp;s\"/>,\n",
       " <img alt=\"\" class=\"yWs4tf\" src=\"https://encrypted-tbn0.gstatic.com/images?q=tbn:ANd9GcRkT_gZOQYIKbLNLFt-ti4E_Jvl1037xaodw0zOHX17d7uTL524cdZtHdoCIg&amp;s\"/>,\n",
       " <img alt=\"\" class=\"yWs4tf\" src=\"https://encrypted-tbn0.gstatic.com/images?q=tbn:ANd9GcSdEQqH5IrboDauqm7_V2o5yXG0W7DatAECDIbtuJ0GoBYDxh_usxJx8yvKWA&amp;s\"/>,\n",
       " <img alt=\"\" class=\"yWs4tf\" src=\"https://encrypted-tbn0.gstatic.com/images?q=tbn:ANd9GcSqT8wFl1HjEuKD579AyCNOlM31DyogoHrHgej-fkELqcX5N2V0oCcMBEyd20c&amp;s\"/>,\n",
       " <img alt=\"\" class=\"yWs4tf\" src=\"https://encrypted-tbn0.gstatic.com/images?q=tbn:ANd9GcSdTRQ6BDySDySEU24oUs_afKKR9ydvODAhvhyidYZ7dU0QJKJgExGdFJvzvQ&amp;s\"/>,\n",
       " <img alt=\"\" class=\"yWs4tf\" src=\"https://encrypted-tbn0.gstatic.com/images?q=tbn:ANd9GcQ2qp334psOBX8dpFJm56dFKsV5e_dVix49V3iY-go79GkEij9WzSUKxkfBIw&amp;s\"/>,\n",
       " <img alt=\"\" class=\"yWs4tf\" src=\"https://encrypted-tbn0.gstatic.com/images?q=tbn:ANd9GcTsQgPjWYN2ax7km9fCZ4QlkQIcZSHDqBZPTnFBUiN-nvCFSeMsMoe2ZANbDg&amp;s\"/>,\n",
       " <img alt=\"\" class=\"yWs4tf\" src=\"https://encrypted-tbn0.gstatic.com/images?q=tbn:ANd9GcRDWG31N3xhlY0frl66hrcN0dcX7y3kB-uq4zH_UnvMB5sR7xr5XrVDZJmoyy0&amp;s\"/>,\n",
       " <img alt=\"\" class=\"yWs4tf\" src=\"https://encrypted-tbn0.gstatic.com/images?q=tbn:ANd9GcT3CUu8LRnSCARga9IDQpoHXKjjM7QlCuV5rAU9XokFQxBmzltLNtaHgfKaxQ&amp;s\"/>,\n",
       " <img alt=\"\" class=\"yWs4tf\" src=\"https://encrypted-tbn0.gstatic.com/images?q=tbn:ANd9GcRNaDD9ehHrlaGAHxet8ayna1PgrKn0q_UkT99kJCSHfBripDtWI99c5fTUATg&amp;s\"/>,\n",
       " <img alt=\"\" class=\"yWs4tf\" src=\"https://encrypted-tbn0.gstatic.com/images?q=tbn:ANd9GcSZ32Q-s-833xSerLEjygm2K1o7vU8lf6MZnXOl2mj55fNS8_81g2Eqyz92tj0&amp;s\"/>,\n",
       " <img alt=\"\" class=\"yWs4tf\" src=\"https://encrypted-tbn0.gstatic.com/images?q=tbn:ANd9GcTLTRY80JP5_e5So1vOq0HuNgZTNe6ZUXPaepDdTPIHkcc5hfgxOUPeYArC3w&amp;s\"/>,\n",
       " <img alt=\"\" class=\"yWs4tf\" src=\"https://encrypted-tbn0.gstatic.com/images?q=tbn:ANd9GcT7dKGh3Nh_XRnC924oRWlcTO2JKctRxWkvIpWojAJl7GUvq7tHF2otwX-VJg&amp;s\"/>,\n",
       " <img alt=\"\" class=\"yWs4tf\" src=\"https://encrypted-tbn0.gstatic.com/images?q=tbn:ANd9GcRvg4ujRm5iIUcYX6o5ZVvrTdyU-Pbo2zyyV0A_hIPn7q7r16aDjzOZv_4X6Uw&amp;s\"/>,\n",
       " <img alt=\"\" class=\"yWs4tf\" src=\"https://encrypted-tbn0.gstatic.com/images?q=tbn:ANd9GcRLAzSn_ZIuWu6YVgecZdFAM6C1mxds6aQZB1YaPoZS_f8OLweF_FusFiaqH5g&amp;s\"/>,\n",
       " <img alt=\"\" class=\"yWs4tf\" src=\"https://encrypted-tbn0.gstatic.com/images?q=tbn:ANd9GcQxU0zAPitzjIGypEFhxGlxqBY4prbN0Z3jSIYPAllmcFB0LUb4fFPGSOsq9w&amp;s\"/>]"
      ]
     },
     "execution_count": 111,
     "metadata": {},
     "output_type": "execute_result"
    }
   ],
   "source": [
    "image_tags"
   ]
  },
  {
   "cell_type": "code",
   "execution_count": 112,
   "id": "0b9992a8-ed0c-4ebb-9595-633f1437c1c1",
   "metadata": {},
   "outputs": [
    {
     "data": {
      "text/plain": [
       "20"
      ]
     },
     "execution_count": 112,
     "metadata": {},
     "output_type": "execute_result"
    }
   ],
   "source": [
    "len(image_tags)"
   ]
  },
  {
   "cell_type": "code",
   "execution_count": 113,
   "id": "5183fd30-3e03-4e9a-a639-51bd0e2fed1c",
   "metadata": {},
   "outputs": [
    {
     "data": {
      "text/plain": [
       "b'\\xff\\xd8\\xff\\xe0\\x00\\x10JFIF\\x00\\x01\\x01\\x00\\x00\\x01\\x00\\x01\\x00\\x00\\xff\\xdb\\x00\\x84\\x00\\t\\x06\\x07\\x08\\x07\\x06\\t\\x08\\x07\\x08\\n\\n\\t\\x0b\\r\\x16\\x0f\\r\\x0c\\x0c\\r\\x1b\\x14\\x15\\x10\\x16 \\x1d\"\" \\x1d\\x1f\\x1f$(4,$&1\\'\\x1f\\x1f-=-157:::#+?D?8C49:7\\x01\\n\\n\\n\\r\\x0c\\r\\x1a\\x0f\\x0f\\x1a7%\\x1f%77777777777777777777777777777777777777777777777777\\xff\\xc0\\x00\\x11\\x08\\x00o\\x00\\xa2\\x03\\x01\"\\x00\\x02\\x11\\x01\\x03\\x11\\x01\\xff\\xc4\\x00\\x1b\\x00\\x00\\x02\\x03\\x01\\x01\\x01\\x00\\x00\\x00\\x00\\x00\\x00\\x00\\x00\\x00\\x00\\x04\\x05\\x02\\x03\\x06\\x00\\x01\\x07\\xff\\xc4\\x00?\\x10\\x00\\x02\\x01\\x03\\x03\\x01\\x06\\x04\\x03\\x07\\x01\\x06\\x07\\x00\\x00\\x00\\x01\\x02\\x03\\x00\\x04\\x11\\x05\\x12!1\\x06\\x13\"AQa\\x14q\\x81\\xa1\\x152\\x91#Sb\\xb1\\xc1\\xd1\\xe1\\xf0\\x07Rr\\x92\\xa2\\xf1$%3BTc\\x93\\xff\\xc4\\x00\\x1a\\x01\\x00\\x02\\x03\\x01\\x01\\x00\\x00\\x00\\x00\\x00\\x00\\x00\\x00\\x00\\x00\\x00\\x02\\x03\\x00\\x01\\x04\\x05\\x06\\xff\\xc4\\x00*\\x11\\x00\\x02\\x02\\x01\\x03\\x03\\x03\\x03\\x05\\x01\\x00\\x00\\x00\\x00\\x00\\x00\\x01\\x02\\x00\\x03\\x11\\x04\\x12!\\x131Q\"Aa\\x14#\\xa12q\\x81\\x91\\xd1R\\xff\\xda\\x00\\x0c\\x03\\x01\\x00\\x02\\x11\\x03\\x11\\x00?\\x00\\xfa\\xdc\\xf1\\xa4\\x8d\\xb8\\x12>\\xb5\\xe4V\\x91\\xe4\\xba\\x80I\\xf6\\xaa\\xe4,2@\\xc8\\xe9\\xc5R\\x93M\\x11\\xfd\\x9eO\\xb1\\xa7\\xe0\\xe3\\x88\\xa2F{K\\xa6\\xb2\\x06d\\x910\\x85[\\'\\x03\\x19\\xab\\xe5\\x8a2\\x9d\\x0eq\\xd75\\xd0\\xdc\\x19\\x87\\x89v\\x1fCV\\xcd\\xb1!f\\x91\\x95UFY\\x98\\xe0(\\xf54%\\x8f\\xbc \\x04Cv\\x81\\t;\\x11\\xb3\\xe7\\xb6\\x94\\xca\\xd1\\xa98\\x04\\x13\\xe9M\\xad\\'\\xb3\\xd4\\xcc\\xdd\\xcc\\xcb/t\\xe5[c\\x83\\x8fC\\xc7\\xb7\\xf5\\xab~\\x12\\xd7\\x04wj\\x0f\\xa9\\xad5\\xd8\\x00\\x99\\xdd\\t\\x8a\\xed\\xa6tFm\\xc7\\xd8\\x91R[\\xa9\\x1c\\x9ex\\xe9\\x9fJ\\x95\\xeaB\\x99\\xc1\\xc7\\xb5,\\x12\\x95b@\\x18\\xf9V\\x85P\\xdc\\xc4;m8\\xcc\\'\\xbak\\x82r\\xe3j\\xf5j\\x1a\\xe60\\x83\\xbb\\xc8q\\xe4\\xc4\\x83\\x8a!.\\xbc\\x18\\xdb\\xf4\\x15m\\xb6\\x95-\\xe2w\\xd2~\\xce\\x1fC\\xd5\\xfeTF\\xc1X\\xcb\\x1c\\x08\\xbd\\x9dC\\xb5\\x06L\\xcd<j\\xea\\x1d|\\xc6j\\x1d\\xde\\x07SLZ\\xd2;[\\x83j\\xec\\x10(\\xc2\\x12z\\xfb|\\xea\\xcf\\xc3\\xdd\\xc0\\xee\\xe2v>g\\x1cV\\xba\\xf5\\n\\xca\\x0eg:\\xed\\x1b\\x06<E]\\xde\\xfe0Mx\"\\xf64\\xcd\\xed\\xdd0\\x1b\\x8csQ\\x91w\\xb6\\xf29\\xa7\\x0bfs\\xa7\\xc7~\\xf0\\x01\\x1f\\xb5HG\\xedD\\x88\\xfd\\xaa\\xebkU\\x96M\\x8f*D0Ig\\xf4\\x1e\\x83\\xcc\\xfbTk\\x82\\x8c\\x99I\\xa6,B\\x81\\x02\\x11\\xd4\\xd2\"\\xe4\\x05\\xc6~t]\\xa4\\xb0<9U\\r\\xe2#?.\\rK\\xc3\\xbf!\\x07\\xd6\\x84[\\x9e\\xd0\\xfe\\x9c\\x0e\\xf2\\x8f\\x85|\\xe3\\x83\\xee\\x0f\\x15!g&\\xed\\xa1j\\xe2[vC|\\xb1\\xc6*a\\xdb$\\xf3\\x93\\xd4\\xe6\\xab{B\\xe8\\xd6$\\x7f\\r\\x93\\xd5k\\xaa}\\xe3{\\xfe\\xb5\\xd4\\x19x[+\\xf16\\xeb$o\\x8ek\\xc2U\\xb3\\x85\\xfe\\x957\\xb7\\x8c\\xf3\\xe7Q\\xdaP\\x8d\\xa7\\x8f\\xe2\\xe6\\xbc\\xfeD\\xf4\\xf82\\xb3\\xc7\\xa8\\xf9\\xd74\\xc5\\x95\\x91\\x18)a\\x81\\xb8df\\x88\\xcac\\x9e\\rU3@\\x89\\xbeM\\xaa\\xab\\xc9,p\\x05BF$\\x00\\xc4=\\x9c\\x95\\x84\\xb7\\xeb(\\x83\\t.\\xd0c\\x8ba\\'\\xde\\x98],o\\x92\\x0e\\x08\\xe9Ht\\t\\xa3\\x92\\xebQX\\xe5\\x8d\\xc9\\x97~\\x15\\xc1\\xe3\\xfd\\x1ar2\\xc7\\x18?AL\\xac\\x0cf-\\xcf8\\x8b\\xeeP;x\\x87>\\xb5TZ{\\xcc|8\\xc7\\xbd;XpA\\xdb\\xeewu\\xa9\\xac\\x90\\xa0\\x0c\\x01\\x00\\xb6\\x06\\xd4\\xce|\\xe9\\xc7Q\\xb4q\\x15\\xd0\\xdcy\\x81Yh\\x88gN\\xf9\\xb7 9e\\x1ec\\xd2\\x99_\\x1d\\x91\\x9c\\x0f\\xca\\xa7\\x18\\xcd$\\x93]\\x8du\\x94\\x8a\\x16}\\x8c\\xdb\\x19\\x07\\\\\\x8e}x\\xe0\\xfe\\x86\\xad\\xbe\\x99.\\x13jZ\\xb3\\x13\\xfb\\xc1\\xfek\\x9f\\xa8\\xb9\\xad\"m\\xa2\\xa5\\xaeg\\xf5\\x10&\\x9eQ\\x93\\x9d\\xd8\\xe39\\x14\\xca\\xc3Q\\x95\\xac6\\x9eZ6\\xd9\\x93\\xd7\\xcb\\x19\\xa5\\xad\\xa2\\xb9\\x91\\x99\"\\x84g\\xf8pG\\xde\\x8d\\x88\\xdbi\\xdaGq0\\xc5\\xd3\\xbe\\xd0w\\x0e\\t\\xfc\\xb8\\xce3\\x9cc\\xe9N\\xafP\\x17\\x01\\xa2\\xac\\xa0\\xb0\\xf4\\xf7\\x95J^V\\xcbW\\x8a\\x88\\xab\\xca\\x16oZ\\x9d\\x9c\\xe9sb\\x97;H\\xdc3\\x82\\x08\\xcf\\xcb\\xdb\\xde\\xaf0\\xf0\\x0e8\\'\\xadu\\x96\\xd5#\\x89\\xc9jX\\x1e`E\\t\\xe9F\\xe9V\\x91\\xdd\\xcf$S\\xa8`b\\'\\x91\\x9e\\x84TL~\\xd4~\\x8a\\x16;\\x89]\\xc8\\x0b\\xdd\\x11\\xf5\\xc8\\xfe\\xd4\\x1a\\x9b\\x07E\\xa1i\\xeb\\xfb\\xcb\\x10Z\\xa3\\x98\\x83J\\xc1\\x9d\\x89$\\xaa\\xed\\x1d}*\\xfd\\x95\\xd6;$\\xb7\\xca0p\\xac\\xcb\\x91\\xf3?\\xe2\\x88\\xee\\xfd\\xa9\\xb5\\xbf\\xa0EY_\\xac\\xca6W\\xbd\\xdd]\\xb3\\xda\\xbbm\\x1e\\xf8\\x1d9V\\xcfj\\xea\\xb7muM\\xf2t\\xe6\\xbcL=+\\x8b\\xe6\\xa9\\x0c+\\xdd\\xc2\\xb83\\xbf\\'\\xc9\\xe9Q\\x11\\xe0\\xe4\\xf3\\x8ep|\\xeb7}\\xaf\\xddA\\xdbm;F\\x8b\\xb9\\xf8i\\xe0g\\x97p\\xf1d\\x07#\\x07?\\xc2>\\x99\\xad\\x13\\x96\\x95J\\t\\x19\\t\\x1f\\x99q\\x91U\\xbb \\xc8\\xbc\\x99\\x9c\\xec\\xc0Sw\\xa9xF{\\xc1\\xfc\\xcdh;\\x9e2\\x08\\x15\\x98\\xec\\x92\\xbf\\xc6\\xdf\\x96\\xb8\\x91\\xc2\\x9ca\\x80\\x00\\xf2y\\xe0u\\xfe\\xf5\\xa7,h\\xc10@\\x06\\ts\\x197\\xb6\\xcc_\\xae\\xf0F\\xe3\\xe4>x\\xf3\\xaa\\xb58m\\xa1\\x82W\\xb6fI\\xc3/xC\\x1fO~:T\\xafw|M\\x99\\x0f\\x81\\xbaN1\\xfc5\\xe6\\xa7\\x0e \\xb9=\\xe2x\\xd9x\\x1c\\x95\\x18\\xf3\\xa4\\xb9$\\x88\\xd5\\xecb\\x9b7\\xb4\\xb9\\xdd%\\xab~\\\\\\x8c\\xec\\xc19\\xc7\\x9f\\xbe\\xd1\\xfaT/\\xaf\\xa2\\xb1\\x8d\\x0c\\x88\\x1d\\x9c\\x02\\x88\\xa82zT\\xf4{?\\x86\\x8eE\\xf8\\xa8\\xee\\x01 \\r\\x89\\x8c}\\xce|\\xe9~\\xb5n\\xed}\\x1a\\xc6\\xd8\\xff\\x00\\xc3\\xa0OcC\\x8f\\x10\\xb7y\\x86\\xd8\\xde%\\xf4LD!]T\\x96VE\\xcfC\\xf6\\xaa\\xefV\\xca);\\xcb\\xb1\\xbfp\\x8f\\x01W\\'p\\x00\\x83\\xf7&\\xbbG\\xb6\\x96&\\x8de(\\xec\\x8a\\xc1\\x8f^0~\\xd4F\\xa3jn\\x0cD\\xdc,%\\x02\\x10Y7n\\xe0qU\\x8f2g\\xc4\\x0b\\\\X\\x97\\xe0YY\\xc091\\xed\\xf5=8\\xfe\\xf4\\xdaX\\x0fsc1|\\xb3\\xc9\\xcfP9\\x8f9\\x038\\xfbz\\xd0\\x1a\\xf4\\x03e\\x80YT\\x04\\xfc\\xa4\\x8f\\xcd\\xd3\\x8aa)?\\x07\\xa6\\xee\\xe9\\xdf\\xe0\\xae\\x07\\xee\\x8di\\xa9\\x8e\\x07\\xf13\\xd8\\x073\\xd6LQ\\xbaBa\\xe7o\\xfe\\xa2>\\xe2\\x97\\xde\\xdf\\xda\\xd9\\xc2f\\xba\\x968c\\xce79\\xc0\\xc9\\xa6:c$\\xc91\\x8d\\x8a\\x8e\\xefv\\xe4#$S\\xee\\xb35\\x91\\x13J\\x00\\xe2\\'\\xd3\\x93t\\x18\\x078w\\x1f\\xf5\\x1a+\\xb8nI\\xda\\x14u$\\xd0\\xfak\\x98\\xed\\xe4Wwv\\xef\\x9f\\x979\\xc7>T\\x93\\xb6\\xd3\\x1f\\xc2\\x84H7\\x19$\\x1c\\x13\\xc1\\xc75mq\\xae\\xad\\xde \\x9a\\xc1i\\xa10\\xe1A\\xdc\\xbc\\xf9f\\xba8;\\xc3\\x8c\\x81\\xeeOJI\\xd9\\x19\\x03hV\\xea\\xd9\\xca\\x16^\\x98\\xc7\\x88\\xe3\\xecE:.<\\x97\\xefMKK(#\\xde\\x06\\xc1\\x99w\\xc2\\xc5\\xfb\\xd1\\xfaWU\\x1d\\xe1\\xff\\x00pWU\\xe5\\xfc\\xc9\\xb5<F\\xc4\\x95\\xc6H\\x198\\x19=k\\xd2XW\\xc85-b\\xfa\\xfe\\xf8\\xdd\\\\K\\xa7G6\\xe1\\x82\\x92\\x11\\x8f\\xd4\\xd1:WjuU\\xb3\\x9e\\x0bk\\xfby\\xd4\\xb1S#\\xeevF\\xe9\\xc1\\xff\\x00\\xbds\\x03\\x837\\x0c\\x18\\xc7S\\x9b?\\xedoNQ\\xd5P\\x03\\xff\\x00\\xe6\\xff\\x00\\xe2\\xbe\\x88%\\xee\\xc39\\x04\\x84R\\xc4\\x0f@+\\xe0\\xa9\\x7fz\\xbd\\xb7\\x82\\xe1.\\x1aK\\xb8\\xc9\\xc3\\xb8-\\x9f\\xd9\\x9e\\xb9\\xf9\\xe2\\xb7\\'\\xb5\\x1a\\xfc\\x91:\\x88m\\x99dB\\xa4\\xad\\xbb\\xe7\\x91\\xf3\\xa1\\x07\\x83%b7\\xd3\\xb5\\x18t\\x8dB\\xedgIX\\xcc\\xc0\\x8d\\x8b\\x9f\\x7f_zj\\x9d\\xa1\\xb6\\x91\\x8a\\xacw\\x03\\x03\\xab \\x03\\xf9\\xd7\\xce\\xae\\xb5Mq\\xae\\xd4\\xc9\\xa7\\xa1yq\\xbaDL \\xe3\\x1em\\xf2\\xabe\\xbd\\xd4\\x99YU\\xa2Y\\x02$\\x81<\\x041\\xc9V\\x8f\\xaf\\x03\\x189\\xcf_\\xd2\\x9c]\\x00\\xf9\\x80\\x03w\\x8dn{c,\\xda\\x0e\\x97\\xab\\x08\\x90\\\\~\"m\\xe4U$\\xa6\\xdf\\x16p3\\xd7j\\xfd\\xe8\\xb4\\xed\\xbd\\x84\\x9aD7\\xb7\\xd1=\\xbbj\\x00\\x90\\xa8\\x0b\\xaa\\xed8<\\xe0\\x1f?J\\xf9\\xb6\\x9a/e\\xd1-`\\xee\\xd4D\\xba\\x8fx8;\\x87\\x05rx\\xe9\\xc9\\xe6\\xa1-\\xbe\\xabu\\xa4i\\xb0Gh[\\xbaG\\xf0\\x8e\\x192\\xf9\\xe75\\x94\\x95\\xf3/{\\x01\\xc4\\xfb\\x06\\x83:\\x08s\\x94\\x916\\x86C\\x11\\xfc\\xcb\\xeb\\xefUj\\xb1\\xcby.\\xebe\\xd8\\xa2%@X\\xf8\\x81\\x1ex\\x1f:\\xf9\\xcc\\xdav\\xb74\\x1a[<\\x91\\xda\\xad\\x94\\n\\xaa\\xce\\xe4l>~\\xbc\\xf4\\xe6\\xb4\\xcby\\xda!\\x04b8\\xa1\\xb8\\x1bG\\x8cDFx\\x1c\\xe4\\x91NO8\\x93v\\xe3\\x89\\xa0\\xd2\\x84\\xf6\\x8b\\x12\\xcc\\x04\\x85r\\x18\\xa1\\xea0q\\xd7\\xf9U\\xb7\\xf7\\xf1O?t\\x01I\"e\\xdc\\x1cd\\x11\\x81\\xe8z\\xe35\\x9b\\x86\\xe3\\xb4\\x131G\\xb7\\xb7\\x8c\\x06#q\\x87#\\x03#\\xa0l\\x83\\xd6\\x94\\xc5\\xa4\\xea\\x90j/y\\xf16\\xcc\\x0b\\xb7\\x889\\x7f3\\xc6=\\xb3\\xd35N\\xca=\\xa4\\xcbq\\x89\\xad\\x9fT\\xb5\\xd4!\\x81\"\\x9c\\x06\\xb7\\xb809\\xdaq\\xbc\\x0c\\xe0}\\x07^\\x95\\x9d\\xd4;M6\\xa7mw\\x05\\xbc\\x86(b\\xb2\\x13\\xc2S!\\xc3\\x89;\\xb6\\xe4\\x1e\\x9f\\xeb\\xce\\x96\\xc1m\\xa9\\xd9o/\\xb7\\'RYW\\xddz\\x17>\\xdf~\\xb4\\xa6\\xf2\\xda\\xee\\xc2\\xe6\\xe8F#0\\xfc\\x0b\\x87e\\x0cT\\xa7z\\x18\\x80H\\xfc\\xd9\\xe7\\xe5\\x9aA\\xb0\\x11\\xb4\\x19LL\\xd5j\\x93\\x8b\\xaf\\xf6}c$\\xad$\\xa4\\x04\\x0c\\\\\\xe4\\xb1\\\\\\x82O\\x9f\\x95n{#q\\xff\\x00\\x92\\xc11\\x05\\x8c\\x96q\\x93\\x92\\x07;Fk\\xe3q]\\xde\\xc7\\xd9\\x0c\\\\\\xca\\xa6\\xcf\\xbc\\xccK\\xc0`r\\xd9\\xcf\\x9f\\xfd\\xebE\\xa4\\xeb\\x9a\\xed\\x9e\\x95j\\x90\"\\xfc!\\xb4\\x0cd,\\x8c@\\xc7\\x03n\\xec\\xf4\\xab\\x0e\\xdb\\x8f\\xf1\\t\\x14\\x02\\x0c\\xdc\\xdb\\x02\\x1ex\\xf0r\\x1b~r\\x08\\xf1s\\x8a\\xcf\\xf6\\xed\\xcczd\\'f\\xe0e\\xc6\\x07\\xfc\\'\\xaf\\xb5\\'\\x93P\\xed\\x02i\\xd1]B%\\x96Y#L\\xc7\\x14eI\\xf0\\xf5$\\xf9\\xd5Z\\xd5\\xee\\xa1.\\x94\\x92_\\xbc\\xdc0fF\\x8c\\xa8N1\\x8c\\xe3\\x9a}\\xd6\\xee\\xa4\\xae \\xf4\\x889\\x8e\\xfb\\n\\xef&\\x9dr[\\xff\\x00\\x92H\\x1e\\xdbW\\xed\\xd7\\xf4\\xad\\x14\\xf2w\\x16\\xf2J\\xe3\\xc2\\x8aO>~\\xd5\\xf3^\\xcc\\xcb5\\xb6\\x9f{yo\\xdeE\\xbb\\t\\x98\\xd0\\xb1!FH\\xe3\\x8e\\xad\\xf6\\xa6\\x1f\\x8e]]\\xdbwsjR\\xa4r\\xc6C+@\\x01\\x00\\xe4c\\xa7Z\\xb5\\xd4\\x84\\xabo\\xbc\\xa1Ny1\\xb4\\x9d\\xb3)#\\'\\xc1/\\x84\\x91\\xff\\x00\\xa8k\\xa9rH6.Z\\xc4\\xf1\\xd5\\x97$\\xfc\\xf9\\xae\\xac\\x1d}G\\xfd\\xc6\\xf4\\x92D\\xdf\\xc3\\x0e\\x12\\xda\\xd3N\\x87\\xd3e\\xb0\\x1f\\xde\\xabmb\\xf2<\\x88\\xe4\\x89A\\xf3\\x8dT\\x7fJ\\x98\\xd1\\xad\\xd3\\x9b\\x89\\x808\\xe9\\x1eX\\xfd\\xc8\\x1fj\\xef\\x82\\xb1F\\xc2\\xdbw\\xa7\\xcb\\xbcr~\\xcb\\x81ZF\\x9a\\xf6\\xeefb\\xcf\\xe6%\\xd8\\x8b\\xab\\xbe\\xa6\\x017R.\\x0c\\x80\\xb6s\\xd3=|\\xc7\\x14\\xc9e\\xba\\xb8\\xf1w\\x0e\\xe3\\xd5\\xf3\\x8f\\xd4\\xd1D\\xad\\xba\\x8d\\xb1\\xc3n:\\x91\\x1c{h+\\x8b\\xdbX\\xfcrJ\\\\\\xfad\\x9a`\\xd0;wiE\\xd1G\\xa9\\xa5\\xcbo>y6\\xb1|\\xce\\xe3\\xfa\\n\\xb9 \\x8dFf\\x98\\xb1\\x1eaB\\x8f\\xb94\\x9a^\\xd0\\x18\\x8e\\xdbtU$p\\n\\x8c\\x9ai\\xa6\\xf6k]\\xd7\\x1de\\xbag\\xb3\\xb5\\xf5\\x93\\xf3\\x1f\\x92\\x8f\\xebL\\x1a\\x1aS\\xf5E\\x9bP\\xf0\\x8aL\\xf5\\xef\\xec`8TY\\x0f\\xfc\\xdf\\xe2\\xb9\\xef5)m\\xa0\\x93N\\xb6c\\x1d\\xc8n\\xebf\\x0eppzt\\xe4\\xd3\\x9b^\\xc6\\xc7\\x0e\\x9fa\\x14\\xf0\\xc5\\xf1\\xa6\\xe8\\xc94\\xd9,\\x19\\x14\\xf0\\xbdx\\xe0\\xf9V\\xab\\xe1-t\\xdd)\\xed,\\xa1)\\x1c,\\x80\\x16r\\xd9\\x19\\xcf\\xf5\\xab.\\x88@\\xade\\x84\\xb5\\x81\\xc9\\xc0\\xf8\\x99\\xfd\\x1f\\xb3v\\xf7B\\t\\xf5\\x16yn\"L\\x9d\\xceY\\x1d\\xbdH\\xcf\\x97\\xa55\\xbd\\x91\\xadd\\xdaq \\xd8\\x18\\x15\\xe3?J\\xb3M\\x99\\x1bwr\\x8c\\x98\\xe7\\x9a\\x13R.n\"a\\xcf\\xec\\x14\\x8f\\xd2\\xab$\\xb70\\xbd*\\x9cJtY>.\\xee\\xea\\xdc\\x88\\xc1W\\x0e\\x14\\xf2T0\\'\\xa7\\xd0\\xd5\\xb3\\xe8v\\xd6\\xd7f\\xe25\\x1b\\xa5#+\\x17\\x81NG\\x9f\\xaf\\x99\\xa0\"\\x9d\\xa2\\xd6\\xb4\\xd6VE\\x17.\\xea\\xe1\\xb1\\xc7\\x84\\x85\\x00\\xfb\\x9a{r\\xca\\x15\\x0c\\xc8\\xf3eS\\x1b1\\x90q\\xd7\\x9a\\xb7\\xce`\\xa3.9\\xf6\\x99\\xf7\\xb5\\xbd\\xb5\\xb4a4\\x03\\xf6\\xb7e!#\\x9cG\\x8e\\x18\\xe3\\xf4\\xe6\\x97Cuk6\\xd0\\x18\\x86e.T\\xaex\\r\\xb7<\\x0c\\xf5\\x1e\\x9fZ\\xd6\\xea\\xa63ojW\\x85\\xdcB\\x82zc\\x14\\x9fY\\xd0\\x02\\xdaK{\\x01\\x1e8;\\x85\\x868\\xc7\\xae\\xf2G\\xd4t\\xa1\\xc1+\\xcf2\\xda\\xc2\\xa4\\x81\\xce\"\\xc7\\x82\\x0b\\xc8\\x88HVX\\xcer\\xc9\\x87S\\x8fQ\\x8a\\x92\\xe9\\xcb\\xdd\\x8d\\x81W\\x03\\x00c\\x1f\\xd2\\xbd\\xb9\\xb4\\xb7\\xb0\\xec\\xe5\\xad\\xe1Y\\x12\\xf5H\\xfd\\xa1r\\x8crO\\x98\"\\x89\\x82-^\\xe2\\xd5.\\xa0D\\xbeG\\x88>\\xc2|k\\x91\\xea\\x00\\xcdCMg\\xf5,\\xb4\\xb9X\\xe3\\x10Cc2\\x02P)#\\xd1\\xa8-F\\xd5\\xee\\xadd\\xb6\\xb8\\x8b\\xf6R\\x8c09\\xc6|\\xbe\\xf4{\\xeaVj\\xe5fI\\xad&\\x1c\\x01*nR~b\\xad\\x8a\\xe1\\xa7\\x8c\\x9b}\\xb3\\x05\\x19%0\\xdcP\\x9d\\x1a\\x1eU\\xb1\\x1a,S\\x14\\xd9\\tt\\xcbh\\xed\\xe0\\x024A\\x8f\\xcaFO\\x9f_S\\x9a2=Zu\\x19i\\x93\\xd3\\x05O\\xf4\\x14F\\xec\\xe5dT\\x1f\\xc2\\xf1\\x8a\\xaf\\xb8\\xb4\\x91\\x8a\\xc9\\x02\\xe4y\\xa3\\xff\\x00L\\xd06\\x8e\\xf1\\xca\\xb6e\\x9b\\x0f\\xb1\\xfe\\xc4\\x87\\xe3\\x12\\x7f\\xbf\\x07\\xfc\\xa6\\xba\\xbb\\xf0\\xfb/\\xddM]K\\xfamT\\x1e\\xab\\xf9\\x1f\\x9f\\xf2Bilm\\xb2$\\x93{\\xfbg\\x8f\\xa5,\\xb9\\xd7;\\x94\\xc4\\r\\x85\\xf5\\x1c}\\xab=s\\xaaKr\\xe0A\\x16\\xde\\x81|\\xcd6\\xd1\\xbb\\x11\\xaaj\\xa5d\\xbc&\\xda\\x13\\xc9is\\xb8\\xfc\\x97\\xa9\\xfa\\x91]\\x82Q~f\\x16\\xb2\\xdbN\\x17\\x81\\xf9\\x8bn\\xf5f\\x9d\\xfc%\\xa4\\xc9\\xe9\\x8ae\\xa1vOV\\xd6\\xa4S06V\\xf20\\x1d\\xe3\\xfec\\xf2\\x1dMh\\xac;3\\x0e\\x95\\xdb\\r=-\\xa3\\x9a[D\\x80\\xbbJ\\xc3\\xc2_\\x0e9\\xc0\\xc7\\xa7\\x1f*\\xdc\\xb3B\\xa5\\x07xc,@\\x05N\\x0es\\xe5Ik\\xd8\\xf6\\x85U\\x0b\\x9c\\xb4\\xc8v3C\\xb3\\xd3\\xe5\\xbb`\\x8b$\\xb1\\xb8\\x0b+\\xa8,:\\xf4\\xf4\\xadz\\xce\\xe5B\\x82\\xad\\xed\\x8ek-\\xa5f9n\\xf0\\xc4\\x12\\xf89\\xf3\\xeb\\xcd2\\x8d\\x99\\x0e\\xe2\\xc7\\x1f:\\xa0\\x99\\x190\\xc5\\xa4\\x0cF\\x172\\x94\\xb8\\xb5V\\xc6C9\\xc6y9\\x1f\\xe2\\xad\\xd4\\xde\\x01g3\\xc36\\xf9\\x1d\\x93z+d\\x8f\\xa5\\x0c\\x93\\xef*D\\x9bT\\x0e\\x87\\x07\\x15|\\x0f\\x031\\x11H7\\x022W\\x19\\xe9\\x8aK\\xd4s\\x98\\xf5\\xb4\\x10G\\x98\\r\\x82\\x8bc\\xc33\\x86\\xe7\\x90x\\xe3\\xa7\\xde\\xbakw\\xb9\\x8e?\\xcc\\x8c\\xa8\\xbc\\xa9\\x18\\xe8+\\xa5\\xb1\\x92=V1\\x04\\xd8\\x89\\x8eI\\x03\\x85\\x04\\x05\\x1f?*&\\xe6\\xd2X\\x13(a\\x99G#j\\x85?\\xce\\x94X\\x0e\\xf1{I\\x1c\\x0e\\xd1I\\xd2Q\\xb5\\x0b\\t\\xe5H\\xe4x\\xdd\\x8eYy\\x1cdb\\x8e\\x9a\\x18\\xa6\\t\\x1c\\x8f\\xb3lj\\xc3\\xcc\\x83\\xd2\\xa0\\xb3\\xc6NLi\\xbb\\xcf;M_\\x1cV\\xf7v-#\\x08\\xd6Dp\\xc1v\\x8c\\x95\\x18\\xc6>\\xa2\\x8b\\'\\x88\\xb1\\xb4\\xe7\\x10=^\\x14\\xeem\\x02\\xce\\xea\\x11\\x8e\\xde9<\\x0e*\\xf6\\x99\\xe4\\xb0H\\xb3\\x89#\\x95y\\xc7\\xf0\\x91\\x8f\\x9d+\\x9eS\\x14b2\\x18\\xaeO\\\\p=\\x05\\x0cu\\x07$\\x8d\\xef\\x92ry\\xc0?\\xa7\\xce\\xb7WA\\xc0\\x98\\xdfT\\x03\\x18n\\xab\\xa7\\xfe\\'j\\xd0L\\xc5\\x10\\x90\\xd9N\\xb9\\x14\\xd7\\xb2\\xb1\\x9bk\\xa4\\xb7G\\xc2\\x08\\n.G8\\x00c\\xf9Vs\\xe3f_\\xfd\\xd9\\x1f3M\\xfb3s,\\xda\\x9a\\xc7 \\xf0208\\xcf\\xa6i\\xb7W\\xf6\\xd8\\xfc@\\xa2\\xf57/\\xee%\\x17\\x96\\x89q-\\xccw6\\xe1\\x95\\xa4l\\xfa\\xe3\\xe7Y\\xadOA[\\x05\\xf8\\x8b9e\\x8c\\x03\\x80\\x17\\x1e\\x1e\\xbf\\xeb\\x8cS\\xd9\\xe4t\\xbd\\xb8U\\xc0\\x1b\\xcf\\x0c[\\xf9\\xd5z\\x8a\\xac\\x96gq~\\x08\\'\\x1c\\xd2\\xda\\xb1\\xd1\\x0c;\\xe2\\x1f_\\xee\\x10|\\xcc\\xfcz\\xbe\\xa1\\x0b\\xfe\\xda\\x15\\xbc\\x8c&\\x18\\x9c\\xe7\\xef\\xcej\\xeb}gI\\xbd\\x9bl\\xab\\xf0\\x92s\\x90T\\xe3vz\\xfb\\xfd\\xa9\\x9e\\x9e\\xb6\\xff\\x00\\n\\xea\\xe0\\x90\\xeez\\x8e8\\xa1o\\xb4K[\\xa2]0H\\xe8\\x1a\\x96)\\xb4\\xa0a\\x1e\\x9a\\xc5S\\xb4\\xc9o\\x8cp/`\\xc7\\xfcg\\xfbWR\\x9f\\xc0n\\xc7\\x02I\\x80\\xf2\\xc4\\x9f\\xe2\\xbd\\xa0\\xdbo\\x83\\x1f\\xf5i\\xf1\\xf9\\x9b\\xdd\\'\\xb3\\xdan\\x94\\x14\\xc1\\x00\\xef\\x7fz\\xf8.~\\xbe_LS\\x12\\xa8\\x87\\x08\\xdc\\xfau\\xaa\\xae\\tU\\xe4\\xe0g\\xa0\\xa1#3\\xdc\\x13\\xdc\\x10\\xa38\\xc95\\x02\\xc2,\\x17\\x80!\\xc7\\'\\x8f\\xbdx!X\\xcfzc\\xf0\\xaf\\x88\\xb0\\x04\\xf4\\xe7\\xa5J\\x08\\x9e\\x15\\x1b\\xdby\\xf3$\\xd5\\xd2\\xb10\\xb7\\x88\\xa9#\\x19^\\xa2\\x80\\xfcB\\x03\\xcc\\xcfh\\x01f\\xf8\\xc2\\xf1\\xb0\\xc4\\xb9\\x0c\\xcb\\xc3\\x0ezQW\\x85\\x14aW-\\xe5\\x9f*\\x0e\\xceg\\xb52\\t\\xe7\\x91\\xcb7\\x19l\\x8c\\n#\\xbfC\\x92O=(\\x97#\\xbc\\xceH#\\x88\\xb6Y\\x04M\\x86%\\x8d{\\x15\\xf4\\xb6\\xd81\\xe1}\\xb1\\xfc\\xea\\xe9v1\\'\\x83\\xe9\\x91C8\\xdf\\xb9W\\xae9\\xa7\\xee\\x06d`A\\xe2>\\xd2\\xb5w7\\x11\\x19\\xb6\\x85c\\x83\\xedM\\xb5\\x08\\xe2q\\xe2\\xd9\\xd0\\xe3\\x8e\\xb5\\x92\\x827\\x11\\x81\\x80@\\x1e\\xb4m\\xbe\\xaa\\xf1(\\x82\\xe0\\x17\\\\\\xe1\\x1f<\\x8fc\\xedY5\\x15n\\xf5,\\xd9\\xa7\\xd4av?\\xbc\\xf1\\xe3\\x8a&m\\xa1G\\x9e=k\\xcf\\x87y\\xa2fG\\x08\\x0f\\x91\\xa1\\xae\\xaeD\\x93\\x1c/\\xe5\\xe39\\xaaw\\x91\\xca\\xeeR}\\r6\\xa5\\xf7\\x99\\x9d\\x80$J\\xfe\\x19\\x91\\x983\\x02=\\xcek\\xc5\\xb4\\x8b\\x07\\xc4A\\xf6\\xa8\\xcb!\\xdc\\x0eO\\xce\\xa6\\xaf\\x8e\\x19\\xb9\\xf9V\\xbd\\xc6d\\xda\\xb9\\xed*\\x92\\xd7#(C\\x11\\xe4M\\x19\\xa0G\\xdck\\x10J\\xe7\\n\\xb9#\\x9e\\xbc\\x11\\x8f\\xbdP\\xdbEyk2\\xc3u\\x1c\\xae\\x0b\\xa0<\\xaf\\xa8\\xf3\\x15\\x18\\x96B% U\\xb1[\\xc1\\x9e_\\xe4\\xddJYXe\\x8e\\rR$!@\\x91\\x89\\xf9\\xd1r$M3\\xb8,\\x15\\x8f\\x875 \\x89\\x9f\\xcb\\x9fZ:\\x9f\\x08\\x01\\x81j\\x13aa\\x02fE\\xe0n\\xc7\\xa0^?J\\x94o\\xb5|,y\\xf2\\xc5N\\xe2-\\x8b\\xde\\x806\\x8e\\xb8\\xf2\\xa1\\xe5Q)\\x01\\x1d\\x81\\xc6r\\x0e)\\xe0\\x88\\x86\\x0c\\xa70\\xbd\\xf3y\\x7f1]A\\xfc<\\xbe\\xff\\x00j\\xea\\x9e\\x99[\\xdf\\xc4\\xff\\xd9'"
      ]
     },
     "execution_count": 113,
     "metadata": {},
     "output_type": "execute_result"
    }
   ],
   "source": [
    "requests.get(\"https://encrypted-tbn0.gstatic.com/images?q=tbn:ANd9GcQEAQiW1Fsp5WFCH1hl0z5VNTU98bINcZXkqsLSbzjRBDo-leiLjSANb5hjpEE&amp;s\").content"
   ]
  },
  {
   "cell_type": "code",
   "execution_count": 114,
   "id": "3cd43360-e6a4-4c49-a810-4b66a0dd4e5f",
   "metadata": {},
   "outputs": [],
   "source": [
    "save_dir=\"images/\"\n",
    "if not os.path.exists(save_dir):\n",
    "    os.makedirs(save_dir)"
   ]
  },
  {
   "cell_type": "code",
   "execution_count": 115,
   "id": "73ff1ad8-4eeb-4040-92d8-5aa2e3e4a600",
   "metadata": {},
   "outputs": [
    {
     "name": "stdout",
     "output_type": "stream",
     "text": [
      "0\n",
      "1\n",
      "2\n",
      "3\n",
      "4\n",
      "5\n",
      "6\n",
      "7\n",
      "8\n",
      "9\n",
      "10\n",
      "11\n",
      "12\n",
      "13\n",
      "14\n",
      "15\n",
      "16\n",
      "17\n",
      "18\n",
      "19\n"
     ]
    }
   ],
   "source": [
    "for i in image_tags:\n",
    "    print(image_tags.index(i))"
   ]
  },
  {
   "cell_type": "code",
   "execution_count": 116,
   "id": "bcd29efb-d02b-4f69-83f9-5c386468084d",
   "metadata": {},
   "outputs": [],
   "source": [
    "for i in image_tags:\n",
    "    image_url=i[\"src\"]\n",
    "    image_data=requests.get(image_url).content\n",
    "    with open(os.path.join(save_dir,f\"{query}_{image_tags.index(i)}.jpg\"),\"wb\") as f:\n",
    "        f.write(image_data)"
   ]
  },
  {
   "cell_type": "code",
   "execution_count": null,
   "id": "30d45534-41e5-459c-8ab9-4863d0b7b0f0",
   "metadata": {},
   "outputs": [],
   "source": []
  },
  {
   "cell_type": "code",
   "execution_count": null,
   "id": "5fe21645-4e63-42b6-8d11-fc8ea1cb422e",
   "metadata": {},
   "outputs": [],
   "source": []
  },
  {
   "cell_type": "code",
   "execution_count": null,
   "id": "7c067227-419a-41f1-8491-696fbebe8028",
   "metadata": {},
   "outputs": [],
   "source": []
  }
 ],
 "metadata": {
  "kernelspec": {
   "display_name": "Python 3 (ipykernel)",
   "language": "python",
   "name": "python3"
  },
  "language_info": {
   "codemirror_mode": {
    "name": "ipython",
    "version": 3
   },
   "file_extension": ".py",
   "mimetype": "text/x-python",
   "name": "python",
   "nbconvert_exporter": "python",
   "pygments_lexer": "ipython3",
   "version": "3.8.17"
  }
 },
 "nbformat": 4,
 "nbformat_minor": 5
}
